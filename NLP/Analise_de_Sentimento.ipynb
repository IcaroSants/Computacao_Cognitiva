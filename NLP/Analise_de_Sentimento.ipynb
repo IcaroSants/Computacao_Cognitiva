{
 "cells": [
  {
   "cell_type": "code",
   "execution_count": 61,
   "id": "479a5b04",
   "metadata": {},
   "outputs": [],
   "source": [
    "import nltk\n",
    "from nltk.corpus import twitter_samples"
   ]
  },
  {
   "cell_type": "code",
   "execution_count": 62,
   "id": "f8160483",
   "metadata": {},
   "outputs": [
    {
     "name": "stderr",
     "output_type": "stream",
     "text": [
      "[nltk_data] Downloading package twitter_samples to\n",
      "[nltk_data]     /home/icaro/nltk_data...\n",
      "[nltk_data]   Package twitter_samples is already up-to-date!\n"
     ]
    },
    {
     "data": {
      "text/plain": [
       "True"
      ]
     },
     "execution_count": 62,
     "metadata": {},
     "output_type": "execute_result"
    }
   ],
   "source": [
    "nltk.download('twitter_samples')"
   ]
  },
  {
   "cell_type": "code",
   "execution_count": 63,
   "id": "970f3438",
   "metadata": {},
   "outputs": [],
   "source": [
    "positive_tweets = twitter_samples.strings('positive_tweets.json')\n",
    "negative_tweets = twitter_samples.strings('negative_tweets.json')\n",
    "text = twitter_samples.strings('tweets.20150430-223406.json')"
   ]
  },
  {
   "cell_type": "code",
   "execution_count": 64,
   "id": "da928312",
   "metadata": {},
   "outputs": [],
   "source": [
    "positives_tweets_tokens = twitter_samples.tokenized('positive_tweets.json')\n",
    "negative_tweets_tokens = twitter_samples.tokenized('negative_tweets.json')"
   ]
  },
  {
   "cell_type": "code",
   "execution_count": 65,
   "id": "c133eb4f",
   "metadata": {},
   "outputs": [
    {
     "name": "stderr",
     "output_type": "stream",
     "text": [
      "[nltk_data] Downloading package wordnet to /home/icaro/nltk_data...\n",
      "[nltk_data]   Package wordnet is already up-to-date!\n",
      "[nltk_data] Downloading package averaged_perceptron_tagger to\n",
      "[nltk_data]     /home/icaro/nltk_data...\n",
      "[nltk_data]   Package averaged_perceptron_tagger is already up-to-\n",
      "[nltk_data]       date!\n",
      "[nltk_data] Downloading package omw-1.4 to /home/icaro/nltk_data...\n",
      "[nltk_data]   Package omw-1.4 is already up-to-date!\n"
     ]
    },
    {
     "data": {
      "text/plain": [
       "True"
      ]
     },
     "execution_count": 65,
     "metadata": {},
     "output_type": "execute_result"
    }
   ],
   "source": [
    "nltk.download('wordnet')\n",
    "nltk.download('averaged_perceptron_tagger')\n",
    "nltk.download('omw-1.4')"
   ]
  },
  {
   "cell_type": "code",
   "execution_count": 66,
   "id": "6bd6e8ad",
   "metadata": {},
   "outputs": [],
   "source": [
    "from nltk.tag import pos_tag\n",
    "from nltk.stem.wordnet import WordNetLemmatizer"
   ]
  },
  {
   "cell_type": "code",
   "execution_count": 67,
   "id": "f134e291",
   "metadata": {},
   "outputs": [],
   "source": [
    "def lemmatize_sentence(token):\n",
    "    lemmatizer = WordNetLemmatizer()\n",
    "    lemmatized_sentence = []\n",
    "    for word, tag in pos_tag(token):\n",
    "        if tag.startswith('NN'):\n",
    "            pos = 'n'\n",
    "        elif tag.startswith('VB'):\n",
    "            pos = 'v'\n",
    "        else:\n",
    "            pos = 'a'\n",
    "        lemmatized_sentence.append(lemmatizer.lemmatize(word,pos))\n",
    "    return lemmatized_sentence"
   ]
  },
  {
   "cell_type": "code",
   "execution_count": 68,
   "id": "3f6b6e11",
   "metadata": {},
   "outputs": [
    {
     "name": "stdout",
     "output_type": "stream",
     "text": [
      "['#FollowFriday', '@France_Inte', '@PKuchly57', '@Milipol_Paris', 'for', 'being', 'top', 'engaged', 'members', 'in', 'my', 'community', 'this', 'week', ':)']\n"
     ]
    }
   ],
   "source": [
    "print(positives_tweets_token[0])"
   ]
  },
  {
   "cell_type": "code",
   "execution_count": 69,
   "id": "cd6e2900",
   "metadata": {},
   "outputs": [
    {
     "name": "stdout",
     "output_type": "stream",
     "text": [
      "['#FollowFriday', '@France_Inte', '@PKuchly57', '@Milipol_Paris', 'for', 'be', 'top', 'engage', 'member', 'in', 'my', 'community', 'this', 'week', ':)']\n"
     ]
    }
   ],
   "source": [
    "print(lemmatize_sentence(positives_tweets_token[0]))"
   ]
  },
  {
   "cell_type": "code",
   "execution_count": 70,
   "id": "74b0adea",
   "metadata": {},
   "outputs": [],
   "source": [
    "import re , string"
   ]
  },
  {
   "cell_type": "code",
   "execution_count": 71,
   "id": "582e85d7",
   "metadata": {},
   "outputs": [],
   "source": [
    "def remove_noise(tweets_tokens,stopwords = ()):\n",
    "    cleaned_tokens = []\n",
    "    for token, tag in pos_tag(tweets_tokens):\n",
    "        if tag.startswith('NN'):\n",
    "            pos = 'n'\n",
    "        elif tag.startswith('VB'):\n",
    "            pos = 'v'\n",
    "        else:\n",
    "            pos = 'a'\n",
    "        lemmatizer = WordNetLemmatizer()\n",
    "        tokens = lemmatizer.lemmatize(token,pos)\n",
    "        if len(tokens)>0 and tokens not in string.punctuation and tokens.lower() not in stopwords:\n",
    "            cleaned_tokens.append(tokens.lower())\n",
    "    \n",
    "    return cleaned_tokens"
   ]
  },
  {
   "cell_type": "code",
   "execution_count": 72,
   "id": "c4b73a57",
   "metadata": {},
   "outputs": [
    {
     "name": "stderr",
     "output_type": "stream",
     "text": [
      "[nltk_data] Downloading package stopwords to /home/icaro/nltk_data...\n",
      "[nltk_data]   Package stopwords is already up-to-date!\n"
     ]
    },
    {
     "data": {
      "text/plain": [
       "True"
      ]
     },
     "execution_count": 72,
     "metadata": {},
     "output_type": "execute_result"
    }
   ],
   "source": [
    "from nltk.corpus import stopwords\n",
    "nltk.download('stopwords')"
   ]
  },
  {
   "cell_type": "code",
   "execution_count": 73,
   "id": "eef1c89b",
   "metadata": {},
   "outputs": [],
   "source": [
    "stop_words = stopwords.words('english')"
   ]
  },
  {
   "cell_type": "code",
   "execution_count": 74,
   "id": "283b6d46",
   "metadata": {},
   "outputs": [
    {
     "name": "stdout",
     "output_type": "stream",
     "text": [
      "['#followfriday', '@france_inte', '@pkuchly57', '@milipol_paris', 'top', 'engage', 'member', 'community', 'week', ':)']\n"
     ]
    }
   ],
   "source": [
    "print(remove_noise(positives_tweets_token[0],stopwords=stop_words))"
   ]
  },
  {
   "cell_type": "code",
   "execution_count": 75,
   "id": "a86590ba",
   "metadata": {},
   "outputs": [],
   "source": [
    "positive_cleaned_tokens_list = []\n",
    "negative_cleaned_tokens_list = []"
   ]
  },
  {
   "cell_type": "code",
   "execution_count": 76,
   "id": "3f128904",
   "metadata": {},
   "outputs": [],
   "source": [
    "for token in positives_tweets_token:\n",
    "    positive_cleaned_tokens_list.append(remove_noise(token,stop_words))"
   ]
  },
  {
   "cell_type": "code",
   "execution_count": 77,
   "id": "5b6da8b1",
   "metadata": {},
   "outputs": [],
   "source": [
    "for token in negative_tweets_tokens:\n",
    "    negative_cleaned_tokens_list.append(remove_noise(token,stop_words))"
   ]
  },
  {
   "cell_type": "code",
   "execution_count": 78,
   "id": "71118302",
   "metadata": {},
   "outputs": [
    {
     "name": "stdout",
     "output_type": "stream",
     "text": [
      "['Dang', 'that', 'is', 'some', 'rad', '@AbzuGame', '#fanart', '!', ':D', 'https://t.co/bI8k8tb9ht']\n"
     ]
    }
   ],
   "source": [
    "print(positives_tweets_token[500])"
   ]
  },
  {
   "cell_type": "code",
   "execution_count": 79,
   "id": "eda28947",
   "metadata": {},
   "outputs": [
    {
     "name": "stdout",
     "output_type": "stream",
     "text": [
      "['dang', 'rad', '@abzugame', '#fanart', ':d', 'https://t.co/bi8k8tb9ht']\n"
     ]
    }
   ],
   "source": [
    "print(positive_cleaned_tokens_list[500])"
   ]
  },
  {
   "cell_type": "code",
   "execution_count": 80,
   "id": "c30a8f7a",
   "metadata": {},
   "outputs": [],
   "source": [
    "from nltk import FreqDist\n"
   ]
  },
  {
   "cell_type": "code",
   "execution_count": 81,
   "id": "fe28399b",
   "metadata": {},
   "outputs": [],
   "source": [
    "def get_all_words(cleaned_tokens_list):\n",
    "    for tokens in cleaned_tokens_list:\n",
    "        for token in tokens:\n",
    "            yield token"
   ]
  },
  {
   "cell_type": "code",
   "execution_count": 82,
   "id": "65bab290",
   "metadata": {},
   "outputs": [],
   "source": [
    "all_pos_word = get_all_words(positive_cleaned_tokens_list)"
   ]
  },
  {
   "cell_type": "code",
   "execution_count": 83,
   "id": "8528a423",
   "metadata": {},
   "outputs": [
    {
     "name": "stdout",
     "output_type": "stream",
     "text": [
      "[(':)', 3691), (':-)', 701), (':d', 658), ('thanks', 388), ('follow', 357), ('love', 333), ('...', 290), ('good', 283), ('get', 263), ('thank', 253)]\n"
     ]
    }
   ],
   "source": [
    "freq_dist_pos =  FreqDist(all_pos_word)\n",
    "print(freq_dist_pos.most_common(10))"
   ]
  },
  {
   "cell_type": "code",
   "execution_count": 96,
   "id": "d8bc570b",
   "metadata": {},
   "outputs": [],
   "source": [
    "def get_tweets_for_model(cleaned_tokens_list):\n",
    "    for tweet_tokens in cleaned_tokens_list:\n",
    "        yield dict([token, True] for token in tweet_tokens) \n",
    "\n",
    "positive_tokens_for_model = get_tweets_for_model(positive_cleaned_tokens_list)\n",
    "negative_tokens_for_model = get_tweets_for_model(negative_cleaned_tokens_list)"
   ]
  },
  {
   "cell_type": "code",
   "execution_count": 97,
   "id": "b76a2432",
   "metadata": {},
   "outputs": [],
   "source": [
    "import random \n",
    "positive_dataset = [(tweet_dict, \"Positive\")for tweet_dict in positive_tokens_for_model] \n",
    "negative_dataset = [(tweet_dict, \"Negative\")for tweet_dict in negative_tokens_for_model] \n",
    "dataset = positive_dataset + negative_dataset \n",
    "random.shuffle(dataset) \n",
    "train_data = dataset[:7000]\n",
    "test_data = dataset[7000:]"
   ]
  },
  {
   "cell_type": "code",
   "execution_count": 98,
   "id": "dcdae9b6",
   "metadata": {},
   "outputs": [
    {
     "name": "stdout",
     "output_type": "stream",
     "text": [
      "Accuracy is: 0.9953333333333333\n",
      "Most Informative Features\n",
      "                      :( = True           Negati : Positi =   2056.5 : 1.0\n",
      "                      :) = True           Positi : Negati =    994.5 : 1.0\n",
      "                     sad = True           Negati : Positi =     31.1 : 1.0\n",
      "                     bam = True           Positi : Negati =     25.2 : 1.0\n",
      "                follower = True           Positi : Negati =     22.4 : 1.0\n",
      "               community = True           Positi : Negati =     19.2 : 1.0\n",
      "                     x15 = True           Negati : Positi =     14.2 : 1.0\n",
      "                  arrive = True           Positi : Negati =     13.7 : 1.0\n",
      "                   enjoy = True           Positi : Negati =     13.4 : 1.0\n",
      "               goodnight = True           Positi : Negati =     13.1 : 1.0\n",
      "None\n"
     ]
    }
   ],
   "source": [
    "\n",
    "from nltk import classify\n",
    "from nltk import NaiveBayesClassifier\n",
    "classifier = NaiveBayesClassifier.train(train_data) \n",
    "print(\"Accuracy is:\", classify.accuracy(classifier, test_data)) \n",
    "print(classifier.show_most_informative_features(10))"
   ]
  },
  {
   "cell_type": "code",
   "execution_count": null,
   "id": "1a62845c",
   "metadata": {},
   "outputs": [],
   "source": []
  }
 ],
 "metadata": {
  "kernelspec": {
   "display_name": "Python 3",
   "language": "python",
   "name": "python3"
  },
  "language_info": {
   "codemirror_mode": {
    "name": "ipython",
    "version": 3
   },
   "file_extension": ".py",
   "mimetype": "text/x-python",
   "name": "python",
   "nbconvert_exporter": "python",
   "pygments_lexer": "ipython3",
   "version": "3.8.10"
  }
 },
 "nbformat": 4,
 "nbformat_minor": 5
}
