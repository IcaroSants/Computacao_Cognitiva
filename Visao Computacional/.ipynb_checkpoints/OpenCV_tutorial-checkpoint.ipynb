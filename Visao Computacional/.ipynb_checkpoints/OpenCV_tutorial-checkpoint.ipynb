{
 "cells": [
  {
   "cell_type": "code",
   "execution_count": 1,
   "id": "d30b899a",
   "metadata": {},
   "outputs": [],
   "source": [
    "import cv2 as cv"
   ]
  },
  {
   "cell_type": "code",
   "execution_count": 2,
   "id": "deb0a6f8",
   "metadata": {},
   "outputs": [],
   "source": [
    "imagem = cv.imread(\"entrada.png\")"
   ]
  },
  {
   "cell_type": "code",
   "execution_count": 3,
   "id": "fdce07f7",
   "metadata": {},
   "outputs": [
    {
     "name": "stdout",
     "output_type": "stream",
     "text": [
      "Largura da imagem em pixels: 463\n",
      "Altura da imagem em pixels: 819\n",
      "Quantidade de caneis da imagem: 3\n"
     ]
    }
   ],
   "source": [
    "print(\"Largura da imagem em pixels:\",imagem.shape[0])\n",
    "print(\"Altura da imagem em pixels:\",imagem.shape[1])\n",
    "print(\"Quantidade de caneis da imagem:\",imagem.shape[2])"
   ]
  },
  {
   "cell_type": "code",
   "execution_count": 5,
   "id": "6072a8e5",
   "metadata": {},
   "outputs": [],
   "source": [
    "def exibir(imagem):\n",
    "    cv.imshow(\"imagem\",imagem)\n",
    "    cv.waitKey(0)\n",
    "    cv.destroyWindow('imagem')"
   ]
  },
  {
   "cell_type": "code",
   "execution_count": null,
   "id": "cb882ed7",
   "metadata": {},
   "outputs": [],
   "source": [
    "for y in range(imagem.shape[1]):\n",
    "    for x in range(imagem.shape[0]):\n",
    "        imagem[x,y] = (255,0,0)\n",
    "\n"
   ]
  }
 ],
 "metadata": {
  "kernelspec": {
   "display_name": "Python 3",
   "language": "python",
   "name": "python3"
  },
  "language_info": {
   "codemirror_mode": {
    "name": "ipython",
    "version": 3
   },
   "file_extension": ".py",
   "mimetype": "text/x-python",
   "name": "python",
   "nbconvert_exporter": "python",
   "pygments_lexer": "ipython3",
   "version": "3.8.10"
  }
 },
 "nbformat": 4,
 "nbformat_minor": 5
}
