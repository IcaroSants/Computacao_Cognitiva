{
 "cells": [
  {
   "cell_type": "code",
   "execution_count": 16,
   "id": "b1a7c677",
   "metadata": {},
   "outputs": [],
   "source": [
    "import cv2 as cv\n",
    "import matplotlib.pyplot as plt"
   ]
  },
  {
   "cell_type": "code",
   "execution_count": 2,
   "id": "7efd2738",
   "metadata": {},
   "outputs": [],
   "source": [
    "imagem = cv.imread(\"entrada.png\")"
   ]
  },
  {
   "cell_type": "code",
   "execution_count": 3,
   "id": "ad44ee9f",
   "metadata": {},
   "outputs": [
    {
     "name": "stdout",
     "output_type": "stream",
     "text": [
      "Largura da imagem em pixels: 463\n",
      "Altura da imagem em pixels: 819\n",
      "Quantidade de caneis da imagem: 3\n"
     ]
    }
   ],
   "source": [
    "print(\"Largura da imagem em pixels:\",imagem.shape[0])\n",
    "print(\"Altura da imagem em pixels:\",imagem.shape[1])\n",
    "print(\"Quantidade de caneis da imagem:\",imagem.shape[2])"
   ]
  },
  {
   "cell_type": "code",
   "execution_count": 4,
   "id": "683e7bbe",
   "metadata": {},
   "outputs": [],
   "source": [
    "def exibir(imagem):\n",
    "    cv.imshow(\"imagem\",imagem)\n",
    "    cv.waitKey(0)\n",
    "    cv.destroyWindow('imagem')"
   ]
  },
  {
   "cell_type": "code",
   "execution_count": 5,
   "id": "bddb15ed",
   "metadata": {},
   "outputs": [],
   "source": [
    "for y in range(imagem.shape[1]):\n",
    "    for x in range(imagem.shape[0]):\n",
    "        imagem[x,y] = (255,0,0)\n",
    "\n",
    "exibir(imagem)\n"
   ]
  },
  {
   "cell_type": "code",
   "execution_count": 6,
   "id": "5daac5fd",
   "metadata": {},
   "outputs": [],
   "source": [
    "imagem = cv.imread('entrada.png')\n",
    "for y in range(0,imagem.shape[0],10):\n",
    "    for x in range(0,imagem.shape[1],10):\n",
    "        imagem[y:y+5,x:x+5]=(0,255,255)\n",
    "exibir(imagem)"
   ]
  },
  {
   "cell_type": "code",
   "execution_count": 12,
   "id": "e4246b42",
   "metadata": {},
   "outputs": [],
   "source": [
    "imagem = cv.imread(\"entrada.png\")\n",
    "recorte = imagem[100:200,100:200]\n",
    "\n",
    "exibir(recorte)"
   ]
  },
  {
   "cell_type": "code",
   "execution_count": 7,
   "id": "a412044a",
   "metadata": {},
   "outputs": [],
   "source": [
    "imagem = cv.imread(\"entrada.png\")\n",
    "altura = imagem.shape[0]\n",
    "largura = imagem.shape[1]\n",
    "\n",
    "proporcao = float(altura/largura)\n",
    "altura_nova = int(altura*proporcao)\n",
    "largura_nova = 320\n",
    "imagem_redimensionada = cv.resize(imagem,(largura_nova,altura_nova),interpolation=cv.INTER_AREA)\n",
    "\n",
    "exibir(imagem_redimensionada)"
   ]
  },
  {
   "cell_type": "code",
   "execution_count": 8,
   "id": "baede14a",
   "metadata": {},
   "outputs": [],
   "source": [
    "#horiontal_flip = imagem[::-1,:]\n",
    "horizontal_flip = cv.flip(imagem,1)\n",
    "#vertical_flip = imagem[:,::-1]\n",
    "vertical_flip = cv.flip(imagem,0)\n",
    "#hv_flip = imagem[::-1,::-1]\n",
    "hv_flip = cv.flip(imagem,-1)\n"
   ]
  },
  {
   "cell_type": "code",
   "execution_count": 9,
   "id": "4579355c",
   "metadata": {},
   "outputs": [],
   "source": [
    "exibir(horizontal_flip)"
   ]
  },
  {
   "cell_type": "code",
   "execution_count": 10,
   "id": "a5b294d9",
   "metadata": {},
   "outputs": [],
   "source": [
    "exibir(vertical_flip)"
   ]
  },
  {
   "cell_type": "code",
   "execution_count": 11,
   "id": "a7ec0efb",
   "metadata": {},
   "outputs": [],
   "source": [
    "exibir(hv_flip)"
   ]
  },
  {
   "cell_type": "code",
   "execution_count": 6,
   "id": "7ff531ab",
   "metadata": {},
   "outputs": [],
   "source": [
    "altura, largura = imagem.shape[0], imagem.shape[1]\n",
    "centro = (largura//2,altura//2)\n",
    "Mat_rot = cv.getRotationMatrix2D(centro,30,1)\n",
    "imagem_rotacionada = cv.warpAffine(imagem,Mat_rot,(largura,altura))"
   ]
  },
  {
   "cell_type": "code",
   "execution_count": 7,
   "id": "965d623f",
   "metadata": {},
   "outputs": [],
   "source": [
    "exibir(imagem_rotacionada)"
   ]
  },
  {
   "cell_type": "code",
   "execution_count": 8,
   "id": "1405941b",
   "metadata": {},
   "outputs": [],
   "source": [
    "gray= cv.cvtColor(imagem,cv.COLOR_BGR2GRAY)\n",
    "hsv = cv.cvtColor(imagem,cv.COLOR_BGR2HSV)\n",
    "lsa = cv.cvtColor(imagem,cv.COLOR_BGR2LAB)"
   ]
  },
  {
   "cell_type": "code",
   "execution_count": 9,
   "id": "fbb8ecf5",
   "metadata": {},
   "outputs": [],
   "source": [
    "exibir(gray)"
   ]
  },
  {
   "cell_type": "code",
   "execution_count": 10,
   "id": "27a726ba",
   "metadata": {},
   "outputs": [],
   "source": [
    "exibir(hsv)"
   ]
  },
  {
   "cell_type": "code",
   "execution_count": 11,
   "id": "61eaafe7",
   "metadata": {},
   "outputs": [],
   "source": [
    "exibir(lsa)"
   ]
  },
  {
   "cell_type": "code",
   "execution_count": 12,
   "id": "ce3f3557",
   "metadata": {},
   "outputs": [],
   "source": [
    "canal_azul,canal_verde,canal_vermelho = cv.split(imagem)"
   ]
  },
  {
   "cell_type": "code",
   "execution_count": 13,
   "id": "bb41d255",
   "metadata": {},
   "outputs": [],
   "source": [
    "exibir(canal_azul)"
   ]
  },
  {
   "cell_type": "code",
   "execution_count": 14,
   "id": "7ca83723",
   "metadata": {},
   "outputs": [],
   "source": [
    "exibir(canal_verde)"
   ]
  },
  {
   "cell_type": "code",
   "execution_count": 15,
   "id": "96ec3e96",
   "metadata": {},
   "outputs": [],
   "source": [
    "exibir(canal_vermelho)"
   ]
  },
  {
   "cell_type": "code",
   "execution_count": 18,
   "id": "05d788b5",
   "metadata": {},
   "outputs": [
    {
     "data": {
      "image/png": "[encoded data removed]",
      "text/plain": [
       "<Figure size 432x288 with 1 Axes>"
      ]
     },
     "metadata": {
      "needs_background": "light"
     },
     "output_type": "display_data"
    }
   ],
   "source": [
    "hist = cv.calcHist([gray],[0],None,[256],[0,256])\n",
    "\n",
    "plt.figure()\n",
    "plt.title(\"Histograma P&D\")\n",
    "plt.xlabel(\"intensidade\")\n",
    "plt.ylabel(\"Qte de pixels\")\n",
    "plt.plot(hist)\n",
    "plt.xlim([0,256])\n",
    "plt.show()\n",
    "exibir(gray)"
   ]
  },
  {
   "cell_type": "code",
   "execution_count": 19,
   "id": "59c0c3d3",
   "metadata": {},
   "outputs": [
    {
     "data": {
      "image/png": "[encoded data removed]",
      "text/plain": [
       "<Figure size 432x288 with 1 Axes>"
      ]
     },
     "metadata": {
      "needs_background": "light"
     },
     "output_type": "display_data"
    }
   ],
   "source": [
    "cores = (\"b\",\"g\",\"r\")\n",
    "canais = cv.split(imagem)\n",
    "\n",
    "plt.figure()\n",
    "plt.title(\"Histograma P&D\")\n",
    "plt.xlabel(\"intensidade\")\n",
    "plt.ylabel(\"Qte de pixels\")\n",
    "\n",
    "for canal,cor in zip(canais,cores):\n",
    "    hist = cv.calcHist([canal],[0],None,[256],[0,256])\n",
    "    plt.plot(hist,color=cor)\n",
    "\n",
    "plt.xlim([0,256])\n",
    "plt.show()"
   ]
  },
  {
   "cell_type": "code",
   "execution_count": 32,
   "id": "efabfb9a",
   "metadata": {},
   "outputs": [],
   "source": [
    "def plot_hist_imagem(hist):\n",
    "    plt.figure()\n",
    "    plt.title(\"Histograma P&D\")\n",
    "    plt.xlabel(\"intensidade\")\n",
    "    plt.ylabel(\"Qte de pixels\")\n",
    "    plt.hist(hist,256,[0,256])\n",
    "    plt.xlim([0,256])\n",
    "    plt.show()"
   ]
  },
  {
   "cell_type": "code",
   "execution_count": 33,
   "id": "1184101c",
   "metadata": {},
   "outputs": [
    {
     "data": {
      "image/png": "[encoded data removed]",
      "text/plain": [
       "<Figure size 432x288 with 1 Axes>"
      ]
     },
     "metadata": {
      "needs_background": "light"
     },
     "output_type": "display_data"
    }
   ],
   "source": [
    "h_eq = cv.equalizeHist(gray)\n",
    "plot_hist_imagem(h_eq.ravel())\n"
   ]
  },
  {
   "cell_type": "code",
   "execution_count": 34,
   "id": "579bcd26",
   "metadata": {},
   "outputs": [
    {
     "data": {
      "image/png": "[encoded data removed]",
      "text/plain": [
       "<Figure size 432x288 with 1 Axes>"
      ]
     },
     "metadata": {
      "needs_background": "light"
     },
     "output_type": "display_data"
    }
   ],
   "source": [
    "plot_hist_imagem(gray.ravel())"
   ]
  },
  {
   "cell_type": "code",
   "execution_count": null,
   "id": "69f780b2",
   "metadata": {},
   "outputs": [],
   "source": []
  }
 ],
 "metadata": {
  "kernelspec": {
   "display_name": "Python 3",
   "language": "python",
   "name": "python3"
  },
  "language_info": {
   "codemirror_mode": {
    "name": "ipython",
    "version": 3
   },
   "file_extension": ".py",
   "mimetype": "text/x-python",
   "name": "python",
   "nbconvert_exporter": "python",
   "pygments_lexer": "ipython3",
   "version": "3.8.10"
  }
 },
 "nbformat": 4,
 "nbformat_minor": 5
}
