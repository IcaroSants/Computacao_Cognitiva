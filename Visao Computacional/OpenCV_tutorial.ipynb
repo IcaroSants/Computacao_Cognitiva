{
 "cells": [
  {
   "cell_type": "code",
   "execution_count": 13,
   "id": "b1a7c677",
   "metadata": {},
   "outputs": [],
   "source": [
    "import cv2 as cv"
   ]
  },
  {
   "cell_type": "code",
   "execution_count": 2,
   "id": "7efd2738",
   "metadata": {},
   "outputs": [],
   "source": [
    "imagem = cv.imread(\"entrada.png\")"
   ]
  },
  {
   "cell_type": "code",
   "execution_count": 3,
   "id": "ad44ee9f",
   "metadata": {},
   "outputs": [
    {
     "name": "stdout",
     "output_type": "stream",
     "text": [
      "Largura da imagem em pixels: 463\n",
      "Altura da imagem em pixels: 819\n",
      "Quantidade de caneis da imagem: 3\n"
     ]
    }
   ],
   "source": [
    "print(\"Largura da imagem em pixels:\",imagem.shape[0])\n",
    "print(\"Altura da imagem em pixels:\",imagem.shape[1])\n",
    "print(\"Quantidade de caneis da imagem:\",imagem.shape[2])"
   ]
  },
  {
   "cell_type": "code",
   "execution_count": 6,
   "id": "683e7bbe",
   "metadata": {},
   "outputs": [],
   "source": [
    "def exibir(imagem):\n",
    "    cv.imshow(\"imagem\",imagem)\n",
    "    cv.waitKey(0)\n",
    "    cv.destroyWindow('imagem')"
   ]
  },
  {
   "cell_type": "code",
   "execution_count": 7,
   "id": "bddb15ed",
   "metadata": {},
   "outputs": [],
   "source": [
    "for y in range(imagem.shape[1]):\n",
    "    for x in range(imagem.shape[0]):\n",
    "        imagem[x,y] = (255,0,0)\n",
    "\n",
    "exibir(imagem)\n"
   ]
  },
  {
   "cell_type": "code",
   "execution_count": 11,
   "id": "5daac5fd",
   "metadata": {},
   "outputs": [],
   "source": [
    "imagem = cv.imread('entrada.png')\n",
    "for y in range(0,imagem.shape[0],10):\n",
    "    for x in range(0,imagem.shape[1],10):\n",
    "        imagem[y:y+5,x:x+5]=(0,255,255)\n",
    "exibir(imagem)"
   ]
  },
  {
   "cell_type": "code",
   "execution_count": 12,
   "id": "e4246b42",
   "metadata": {},
   "outputs": [],
   "source": [
    "imagem = cv.imread(\"entrada.png\")\n",
    "recorte = imagem[100:200,100:200]\n",
    "\n",
    "exibir(recorte)"
   ]
  },
  {
   "cell_type": "code",
   "execution_count": 14,
   "id": "a412044a",
   "metadata": {},
   "outputs": [],
   "source": [
    "altura = imagem.shape[0]\n",
    "largura = imagem.shape[1]\n",
    "\n",
    "proporcao = float(altura/largura)\n",
    "altura_nova = int(altura*proporcao)\n",
    "largura_nova = 320\n",
    "imagem_redimensionada = cv.resize(imagem,(largura_nova,altura_nova),interpolation=cv.INTER_AREA)\n",
    "\n",
    "exibir(imagem_redimensionada)"
   ]
  },
  {
   "cell_type": "code",
   "execution_count": 15,
   "id": "baede14a",
   "metadata": {},
   "outputs": [],
   "source": [
    "#horiontal_flip = imagem[::-1,:]\n",
    "horizontal_flip = cv.flip(imagem,1)\n",
    "#vertical_flip = imagem[:,::-1]\n",
    "vertical_flip = cv.flip(imagem,0)\n",
    "#hv_flip = imagem[::-1,::-1]\n",
    "hv_flip = cv.flip(imagem,-1)\n"
   ]
  },
  {
   "cell_type": "code",
   "execution_count": 16,
   "id": "4579355c",
   "metadata": {},
   "outputs": [],
   "source": [
    "exibir(horizontal_flip)"
   ]
  },
  {
   "cell_type": "code",
   "execution_count": 17,
   "id": "a5b294d9",
   "metadata": {},
   "outputs": [],
   "source": [
    "exibir(vertical_flip)"
   ]
  },
  {
   "cell_type": "code",
   "execution_count": 18,
   "id": "a7ec0efb",
   "metadata": {},
   "outputs": [],
   "source": [
    "exibir(hv_flip)"
   ]
  },
  {
   "cell_type": "code",
   "execution_count": null,
   "id": "7ee8b86d",
   "metadata": {},
   "outputs": [],
   "source": []
  }
 ],
 "metadata": {
  "kernelspec": {
   "display_name": "Python 3",
   "language": "python",
   "name": "python3"
  },
  "language_info": {
   "codemirror_mode": {
    "name": "ipython",
    "version": 3
   },
   "file_extension": ".py",
   "mimetype": "text/x-python",
   "name": "python",
   "nbconvert_exporter": "python",
   "pygments_lexer": "ipython3",
   "version": "3.8.10"
  }
 },
 "nbformat": 4,
 "nbformat_minor": 5
}
